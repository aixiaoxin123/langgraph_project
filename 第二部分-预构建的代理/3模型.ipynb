{
 "cells": [
  {
   "cell_type": "markdown",
   "id": "ad67372f",
   "metadata": {},
   "source": [
    "参考文档：\n",
    "https://langchain-ai.github.io/langgraph/agents/models/\n",
    "\n",
    "\n",
    "本页介绍如何配置代理使用的聊天模型。\n",
    "\n",
    "工具调用支持¶\n",
    "要启用工具调用代理，底层 LLM 必须支持工具调用。\n",
    "\n",
    "兼容的模型可以在 LangChain 集成目录中找到。\n"
   ]
  },
  {
   "cell_type": "code",
   "execution_count": null,
   "id": "6081d627",
   "metadata": {},
   "outputs": [],
   "source": [
    "import os\n",
    "from langchain.chat_models import init_chat_model\n",
    "from langgraph.prebuilt import create_react_agent\n",
    "\n",
    "API_KEY = \"sk-123\"\n",
    "\n",
    "BASE_URL = \"https://api.deepseek.com\"\n",
    "\n",
    "os.environ[\"OPENAI_API_KEY\"] = API_KEY\n",
    "os.environ[\"OPENAI_API_BASE\"] = BASE_URL\n",
    "\n",
    "\n",
    "llm = init_chat_model(model=\"openai:deepseek-chat\",\n",
    "                      disable_streaming=True,# 禁用流式传输\n",
    "                      temperature=0.1,\n",
    "                      max_tokens=10240\n",
    "                      )\n",
    "\n",
    "agent = create_react_agent(\n",
    "    model=llm,\n",
    "tools=[],\n",
    ")\n"
   ]
  }
 ],
 "metadata": {
  "kernelspec": {
   "display_name": "langgraph",
   "language": "python",
   "name": "python3"
  },
  "language_info": {
   "codemirror_mode": {
    "name": "ipython",
    "version": 3
   },
   "file_extension": ".py",
   "mimetype": "text/x-python",
   "name": "python",
   "nbconvert_exporter": "python",
   "pygments_lexer": "ipython3",
   "version": "3.12.9"
  }
 },
 "nbformat": 4,
 "nbformat_minor": 5
}
