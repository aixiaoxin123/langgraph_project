{
 "cells": [
  {
   "cell_type": "code",
   "execution_count": null,
   "id": "6081d627",
   "metadata": {},
   "outputs": [],
   "source": [
    "import os\n",
    "from langchain.chat_models import init_chat_model\n",
    "from langgraph.prebuilt import create_react_agent\n",
    "\n",
    "API_KEY = \"sk-123\"\n",
    "\n",
    "BASE_URL = \"https://api.deepseek.com\"\n",
    "\n",
    "os.environ[\"OPENAI_API_KEY\"] = API_KEY\n",
    "os.environ[\"OPENAI_API_BASE\"] = BASE_URL\n",
    "\n",
    "\n",
    "llm = init_chat_model(model=\"openai:deepseek-chat\",\n",
    "                      disable_streaming=True,# 禁用流式传输\n",
    "                      temperature=0.1,\n",
    "                      max_tokens=10240\n",
    "                      )\n",
    "\n",
    "agent = create_react_agent(\n",
    "    model=llm,\n",
    "tools=[],\n",
    ")\n"
   ]
  }
 ],
 "metadata": {
  "kernelspec": {
   "display_name": "langgraph",
   "language": "python",
   "name": "python3"
  },
  "language_info": {
   "codemirror_mode": {
    "name": "ipython",
    "version": 3
   },
   "file_extension": ".py",
   "mimetype": "text/x-python",
   "name": "python",
   "nbconvert_exporter": "python",
   "pygments_lexer": "ipython3",
   "version": "3.12.9"
  }
 },
 "nbformat": 4,
 "nbformat_minor": 5
}
