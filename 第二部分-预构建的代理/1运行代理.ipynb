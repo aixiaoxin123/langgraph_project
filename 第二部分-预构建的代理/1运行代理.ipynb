{
 "cells": [
  {
   "cell_type": "code",
   "execution_count": 2,
   "id": "6081d627",
   "metadata": {},
   "outputs": [],
   "source": [
    "import os\n",
    "from langchain.chat_models import init_chat_model\n",
    "\n",
    "API_KEY = \"sk-123\"\n",
    "\n",
    "BASE_URL = \"https://api.deepseek.com\"\n",
    "\n",
    "os.environ[\"OPENAI_API_KEY\"] = API_KEY\n",
    "os.environ[\"OPENAI_API_BASE\"] = BASE_URL\n",
    "\n",
    "\n",
    "llm = init_chat_model(\"openai:deepseek-chat\")"
   ]
  },
  {
   "cell_type": "code",
   "execution_count": 5,
   "id": "e2617bf5",
   "metadata": {},
   "outputs": [
    {
     "name": "stdout",
     "output_type": "stream",
     "text": [
      "{'messages': [HumanMessage(content='你是谁', additional_kwargs={}, response_metadata={}, id='79e83afe-7e87-477d-9148-9da2a4e3dae5'), AIMessage(content='我是DeepSeek Chat，由深度求索公司（DeepSeek）开发的智能AI助手！🤖✨ 我的使命是帮助你解答各种问题，无论是学习、工作，还是日常生活中的小困惑，我都会尽力提供准确、有用的信息。  \\n\\n你可以问我任何问题，比如：  \\n- **知识科普** 📚：比如“黑洞是怎么形成的？”  \\n- **实用建议** 💡：比如“如何提高学习效率？”  \\n- **创意灵感** 🎨：比如“帮我写一首关于夏天的诗。”  \\n- **技术支持** 💻：比如“Python代码报错怎么解决？”  \\n\\n目前我是**免费的**，也没有隐藏收费，随时欢迎来聊！😊 你今天有什么想问的呢？', additional_kwargs={'refusal': None}, response_metadata={'token_usage': {'completion_tokens': 151, 'prompt_tokens': 4, 'total_tokens': 155, 'completion_tokens_details': None, 'prompt_tokens_details': {'audio_tokens': None, 'cached_tokens': 0}, 'prompt_cache_hit_tokens': 0, 'prompt_cache_miss_tokens': 4}, 'model_name': 'deepseek-chat', 'system_fingerprint': 'fp_8802369eaa_prod0425fp8', 'id': 'b7823cc0-4802-4cb8-9261-3597e4501c2c', 'service_tier': None, 'finish_reason': 'stop', 'logprobs': None}, id='run--545a9933-7fa3-4133-88df-9c13331c411e-0', usage_metadata={'input_tokens': 4, 'output_tokens': 151, 'total_tokens': 155, 'input_token_details': {'cache_read': 0}, 'output_token_details': {}})]}\n",
      "{'agent': {'messages': [AIMessage(content='我是DeepSeek Chat，由深度求索公司（DeepSeek）创造的智能AI助手！🤖✨ 我可以帮你解答各种问题，无论是学习、工作，还是日常生活中的小困惑，都可以问我哦！有什么我可以帮你的吗？😊', additional_kwargs={'refusal': None}, response_metadata={'token_usage': {'completion_tokens': 54, 'prompt_tokens': 4, 'total_tokens': 58, 'completion_tokens_details': None, 'prompt_tokens_details': {'audio_tokens': None, 'cached_tokens': 0}, 'prompt_cache_hit_tokens': 0, 'prompt_cache_miss_tokens': 4}, 'model_name': 'deepseek-chat', 'system_fingerprint': 'fp_8802369eaa_prod0425fp8', 'id': '57ba7939-31f3-4499-87a3-225466a68871', 'service_tier': None, 'finish_reason': 'stop', 'logprobs': None}, id='run--b4a83b2f-7099-402a-8f91-52e355facb46-0', usage_metadata={'input_tokens': 4, 'output_tokens': 54, 'total_tokens': 58, 'input_token_details': {'cache_read': 0}, 'output_token_details': {}})]}}\n"
     ]
    }
   ],
   "source": [
    "# 同步调用\n",
    "from langgraph.prebuilt import create_react_agent\n",
    "\n",
    "agent = create_react_agent(model=llm,tools=[])\n",
    "\n",
    "response = agent.invoke({\"messages\": [{\"role\": \"user\", \"content\": \"你是谁\"}]})\n",
    "\n",
    "print(response)\n",
    "\n",
    "\n",
    "# 同步流式处理\n",
    "for chunk in agent.stream(\n",
    "    {\"messages\": [{\"role\": \"user\", \"content\": \"你是谁\"}]},\n",
    "    stream_mode=\"updates\"\n",
    "):\n",
    "    print(chunk)\n",
    "\n",
    "    "
   ]
  },
  {
   "cell_type": "code",
   "execution_count": 7,
   "id": "8e4ca262",
   "metadata": {},
   "outputs": [
    {
     "name": "stdout",
     "output_type": "stream",
     "text": [
      "{'messages': [HumanMessage(content='你是谁？', additional_kwargs={}, response_metadata={}, id='02cbc726-9f8b-411c-8406-9654edaba79f'), AIMessage(content='我是DeepSeek Chat，由深度求索公司创造的智能AI助手！🤖✨ 我的使命是帮助你解答各种问题，无论是学习、工作，还是生活中的小困惑，我都会尽力提供准确、有用的信息。  \\n\\n你可以问我任何问题，比如：  \\n- **知识查询**：历史、科学、技术等  \\n- **实用建议**：写作、编程、旅行规划等  \\n- **趣味互动**：讲个笑话、推荐电影或书籍  \\n\\n我目前是**免费的**，而且支持超长上下文（128K），还能读取你上传的文档（如PDF、Word等）来辅助回答。试试看吧！😊  \\n\\n有什么我可以帮你的吗？', additional_kwargs={'refusal': None}, response_metadata={'token_usage': {'completion_tokens': 143, 'prompt_tokens': 5, 'total_tokens': 148, 'completion_tokens_details': None, 'prompt_tokens_details': {'audio_tokens': None, 'cached_tokens': 0}, 'prompt_cache_hit_tokens': 0, 'prompt_cache_miss_tokens': 5}, 'model_name': 'deepseek-chat', 'system_fingerprint': 'fp_8802369eaa_prod0425fp8', 'id': '7a957aab-020a-4ccf-ab16-b2ec4a6a7b71', 'service_tier': None, 'finish_reason': 'stop', 'logprobs': None}, id='run--5e17dc65-1e9f-4694-bd54-c725bbee761f-0', usage_metadata={'input_tokens': 5, 'output_tokens': 143, 'total_tokens': 148, 'input_token_details': {'cache_read': 0}, 'output_token_details': {}})]}\n",
      "{'agent': {'messages': [AIMessage(content='我是DeepSeek Chat，由深度求索公司（DeepSeek）创造的智能AI助手！🤖✨ 我的使命是帮助你解答各种问题，无论是学习、工作，还是日常生活中的小困惑。我可以陪你聊天、提供建议、查找资料，甚至帮你分析复杂的问题。  \\n\\n有什么我可以帮你的吗？😊', additional_kwargs={'refusal': None}, response_metadata={'token_usage': {'completion_tokens': 69, 'prompt_tokens': 5, 'total_tokens': 74, 'completion_tokens_details': None, 'prompt_tokens_details': {'audio_tokens': None, 'cached_tokens': 0}, 'prompt_cache_hit_tokens': 0, 'prompt_cache_miss_tokens': 5}, 'model_name': 'deepseek-chat', 'system_fingerprint': 'fp_8802369eaa_prod0425fp8', 'id': 'fca27385-22be-447e-927a-753bf3c7c19d', 'service_tier': None, 'finish_reason': 'stop', 'logprobs': None}, id='run--1117972c-5bb3-434d-910c-87034e331a96-0', usage_metadata={'input_tokens': 5, 'output_tokens': 69, 'total_tokens': 74, 'input_token_details': {'cache_read': 0}, 'output_token_details': {}})]}}\n"
     ]
    }
   ],
   "source": [
    "#异步调用\n",
    "\n",
    "from langgraph.prebuilt import create_react_agent\n",
    "\n",
    "agent = create_react_agent(model=llm,tools=[])\n",
    "response = await agent.ainvoke({\"messages\": [{\"role\": \"user\", \"content\": \"你是谁？\"}]})\n",
    "print(response)\n",
    "\n",
    "# 异步流式处理\n",
    "\n",
    "async for chunk in agent.astream(\n",
    "    {\"messages\": [{\"role\": \"user\", \"content\": \"你是谁？\"}]},\n",
    "    stream_mode=\"updates\"\n",
    "):\n",
    "    print(chunk)\n",
    "    "
   ]
  },
  {
   "cell_type": "code",
   "execution_count": 9,
   "id": "e5337afd",
   "metadata": {},
   "outputs": [
    {
     "name": "stdout",
     "output_type": "stream",
     "text": [
      "{'messages': [HumanMessage(content='你是谁？', additional_kwargs={}, response_metadata={}, id='0346e2fd-b76b-49af-92df-72399c437f7d'), AIMessage(content='我是DeepSeek Chat，由深度求索公司（DeepSeek）创造的智能AI助手！🤖✨ 我的使命是帮助你解答问题、提供信息、陪你聊天，甚至帮你处理各种任务。无论是学习、工作，还是日常生活中的小疑问，都可以来找我哦！😊  \\n\\n有什么我可以帮你的吗？', additional_kwargs={'refusal': None}, response_metadata={'token_usage': {'completion_tokens': 69, 'prompt_tokens': 5, 'total_tokens': 74, 'completion_tokens_details': None, 'prompt_tokens_details': {'audio_tokens': None, 'cached_tokens': 0}, 'prompt_cache_hit_tokens': 0, 'prompt_cache_miss_tokens': 5}, 'model_name': 'deepseek-chat', 'system_fingerprint': 'fp_8802369eaa_prod0425fp8', 'id': 'f15916d3-7bbd-4463-8d98-6f2c9a46858c', 'service_tier': None, 'finish_reason': 'stop', 'logprobs': None}, id='run--62bcbfd5-8a7c-43e8-9f52-c553c9527089-0', usage_metadata={'input_tokens': 5, 'output_tokens': 69, 'total_tokens': 74, 'input_token_details': {'cache_read': 0}, 'output_token_details': {}})]}\n"
     ]
    }
   ],
   "source": [
    "# 最大迭代次数\n",
    "\n",
    "from langgraph.errors import GraphRecursionError\n",
    "from langgraph.prebuilt import create_react_agent\n",
    "\n",
    "max_iterations = 3\n",
    "recursion_limit = 2 * max_iterations + 1\n",
    "agent = create_react_agent(\n",
    "    model=llm,\n",
    "    tools=[]\n",
    ")\n",
    "\n",
    "try:\n",
    "    response = agent.invoke(\n",
    "        {\"messages\": [{\"role\": \"user\", \"content\": \"你是谁？\"}]},\n",
    "        {\"recursion_limit\": recursion_limit},\n",
    "    )\n",
    "    print(response)\n",
    "except GraphRecursionError:\n",
    "    print(\"Agent stopped due to max iterations.\")\n"
   ]
  }
 ],
 "metadata": {
  "kernelspec": {
   "display_name": "langgraph",
   "language": "python",
   "name": "python3"
  },
  "language_info": {
   "codemirror_mode": {
    "name": "ipython",
    "version": 3
   },
   "file_extension": ".py",
   "mimetype": "text/x-python",
   "name": "python",
   "nbconvert_exporter": "python",
   "pygments_lexer": "ipython3",
   "version": "3.12.9"
  }
 },
 "nbformat": 4,
 "nbformat_minor": 5
}
