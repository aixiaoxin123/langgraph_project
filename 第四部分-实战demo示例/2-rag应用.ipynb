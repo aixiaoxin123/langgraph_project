{
 "cells": [
  {
   "cell_type": "markdown",
   "id": "6fa8a8b2",
   "metadata": {},
   "source": [
    "参考文档教程：\n",
    "https://langchain-ai.github.io/langgraph/tutorials/rag/langgraph_agentic_rag/\n",
    "\n",
    "https://github.com/langchain-ai/langgraph/blob/main/examples/rag/langgraph_self_rag_local.ipynb\n",
    "\n",
    "\n",
    "\n",
    "在本教程中，我们将构建一个检索代理。当您希望 LLM 决定是从 vectorstore 检索上下文还是直接响应用户时，检索代理非常有用。\n",
    "\n",
    "在本教程结束时，我们将完成以下工作：\n",
    "\n",
    "获取和预处理将用于检索的文档。\n",
    "为这些文档编制索引以进行语义搜索，并为代理创建检索工具。\n",
    "构建一个代理 RAG 系统，可以决定何时使用检索工具。\n",
    "\n",
    "#安装依赖：\n",
    "\n",
    "## 安装uv\n",
    "\n",
    "pip install uv -i https://pypi.tuna.tsinghua.edu.cn/simple/\n",
    "\n",
    "## 利用uv安装\n",
    "\n",
    "uv pip install langchain  langgraph \"langchain[openai]\" langchain-community langchain-text-splitters langchain-ollama -i https://pypi.tuna.tsinghua.edu.cn/simple/\n",
    "\n",
    "\n",
    "\n"
   ]
  },
  {
   "cell_type": "markdown",
   "id": "98e46386",
   "metadata": {},
   "source": []
  },
  {
   "cell_type": "markdown",
   "id": "1b38d67e",
   "metadata": {},
   "source": [
    "# 1. 读取本地txt内容，作为rag的数据源\n"
   ]
  },
  {
   "cell_type": "code",
   "execution_count": 4,
   "id": "82f638e9",
   "metadata": {},
   "outputs": [
    {
     "name": "stdout",
     "output_type": "stream",
     "text": [
      "1\n",
      "2577\n"
     ]
    }
   ],
   "source": [
    "# 1 读取本地txt，作为rag的参考文献，本文主要读取倚天屠龙记小说；\n",
    "\n",
    "from langchain_community.document_loaders import  TextLoader\n",
    "\n",
    "txt_path=\"data/金庸-倚天屠龙记txt精校版.txt\"\n",
    "docs = [TextLoader(txt_path,encoding='gb18030').load()]\n",
    "print(len(docs))\n",
    "docs[0][0].page_content.strip()[:1000]\n",
    "\n",
    "\n",
    "# 2. 将获取的文档拆分成更小的块，以便索引到我们的 vectorstore 中：\n",
    "\n",
    "from langchain_text_splitters import RecursiveCharacterTextSplitter\n",
    "\n",
    "docs_list = [item for sublist in docs for item in sublist]\n",
    "\n",
    "text_splitter = RecursiveCharacterTextSplitter.from_tiktoken_encoder(\n",
    "    chunk_size=1024, chunk_overlap=50\n",
    ")\n",
    "doc_splits = text_splitter.split_documents(docs_list)\n",
    "print(len(doc_splits))\n",
    "\n",
    "# 取样100条数据，方便测试，实际使用时，可以全部使用\n",
    "doc_splits=doc_splits[0:300]"
   ]
  },
  {
   "cell_type": "markdown",
   "id": "f447550f",
   "metadata": {},
   "source": [
    "\n",
    "\n",
    "# 2. 使用 Ollama 进行嵌入\n",
    "\"\"\"\n",
    "现在我们有了拆分的文档，我们可以将它们索引到用于语义搜索的向量存储中。\n",
    "\n",
    "\"\"\"\n",
    "https://www.langchain.com.cn/docs/integrations/text_embedding/ollama/\n",
    "\n",
    "拉取向量的命令：\n",
    "ollama pull bge-m3:latest\n",
    "\n",
    "\"\"\"\n"
   ]
  },
  {
   "cell_type": "code",
   "execution_count": 5,
   "id": "344cabb1",
   "metadata": {},
   "outputs": [
    {
     "name": "stdout",
     "output_type": "stream",
     "text": [
      "model='bge-m3:latest' base_url='192.168.3.136:11434' client_kwargs={} async_client_kwargs={} sync_client_kwargs={} mirostat=None mirostat_eta=None mirostat_tau=None num_ctx=None num_gpu=None keep_alive=None num_thread=None repeat_last_n=None repeat_penalty=None temperature=None stop=None tfs_z=None top_k=None top_p=None\n"
     ]
    }
   ],
   "source": [
    "# 2. 创建检索工具¶\n",
    "\"\"\"\n",
    "现在我们有了拆分的文档，我们可以将它们索引到用于语义搜索的向量存储中。\n",
    "\n",
    "2.1. 使用内存中向量存储和 ollama的本地向量模型 嵌入：\n",
    "\"\"\"\n",
    "\n",
    "\n",
    "from langchain_ollama import OllamaEmbeddings\n",
    "\n",
    "local_embeddings = OllamaEmbeddings(\n",
    "    model=\"bge-m3:latest\",\n",
    "    base_url=\"192.168.3.136:11434\",\n",
    ")\n",
    "\n",
    "print(local_embeddings)\n",
    "\n",
    "\n",
    "\n",
    "\n"
   ]
  },
  {
   "cell_type": "code",
   "execution_count": null,
   "id": "36ed3368",
   "metadata": {},
   "outputs": [],
   "source": [
    "\n",
    "# 2.2. 使用 LangChain 的预构建创建一个 retriever 工具：create_retriever_tool\n",
    "\n",
    "# 使用内存向量库\n",
    "from langchain_core.vectorstores import InMemoryVectorStore\n",
    "\n",
    "from langchain.tools.retriever import create_retriever_tool\n",
    "\n",
    "\n",
    "vectorstore = InMemoryVectorStore.from_documents(\n",
    "    documents=doc_splits, embedding=local_embeddings\n",
    ")\n",
    "retriever = vectorstore.as_retriever()\n",
    "\n",
    "\n",
    "\n",
    "retriever_tool = create_retriever_tool(\n",
    "    retriever,\n",
    "    \"retrieve_novel_info\",\n",
    "    \"Search and return information about novel_info.\",\n",
    ")"
   ]
  },
  {
   "cell_type": "markdown",
   "id": "a2c2687e",
   "metadata": {},
   "source": [
    "\n",
    "# 3. 创建llm，搭建rag的流程\n",
    "\n"
   ]
  },
  {
   "cell_type": "code",
   "execution_count": null,
   "id": "e8c9c58b",
   "metadata": {},
   "outputs": [
    {
     "name": "stderr",
     "output_type": "stream",
     "text": [
      "C:\\Users\\dell\\AppData\\Local\\Temp\\ipykernel_32800\\1804546767.py:14: LangChainDeprecationWarning: The class `ChatOpenAI` was deprecated in LangChain 0.0.10 and will be removed in 1.0. An updated version of the class exists in the :class:`~langchain-openai package and should be used instead. To use it run `pip install -U :class:`~langchain-openai` and import as `from :class:`~langchain_openai import ChatOpenAI``.\n",
      "  llm = ChatOpenAI(model=\"deepseek-chat\",temperature=0)\n"
     ]
    }
   ],
   "source": [
    "# 3.1 创建llm\n",
    "\n",
    "\n",
    "from langchain_community.chat_models import ChatOpenAI\n",
    "import os\n",
    "\n",
    "API_KEY = \"sk-123\"\n",
    "\n",
    "BASE_URL = \"https://api.deepseek.com\"\n",
    "\n",
    "os.environ[\"OPENAI_API_KEY\"] = API_KEY\n",
    "os.environ[\"OPENAI_API_BASE\"] = BASE_URL\n",
    "\n",
    "llm = ChatOpenAI(model=\"deepseek-chat\",temperature=0)\n",
    "\n"
   ]
  },
  {
   "cell_type": "code",
   "execution_count": 8,
   "id": "67e6c9b7",
   "metadata": {},
   "outputs": [
    {
     "name": "stderr",
     "output_type": "stream",
     "text": [
      "<>:3: SyntaxWarning: invalid escape sequence '\\ '\n",
      "<>:3: SyntaxWarning: invalid escape sequence '\\ '\n",
      "C:\\Users\\dell\\AppData\\Local\\Temp\\ipykernel_32800\\2606293649.py:3: SyntaxWarning: invalid escape sequence '\\ '\n",
      "  \"\"\"您是一名评分员，评估检索文档与用户问题的相关性。\\ n\n",
      "C:\\Users\\dell\\AppData\\Local\\Temp\\ipykernel_32800\\2606293649.py:34: LangChainDeprecationWarning: The method `BaseRetriever.get_relevant_documents` was deprecated in langchain-core 0.1.46 and will be removed in 1.0. Use :meth:`~invoke` instead.\n",
      "  docs = retriever.get_relevant_documents(question,k=10)\n"
     ]
    },
    {
     "name": "stdout",
     "output_type": "stream",
     "text": [
      "10\n",
      "舟中书生站起身来，微微一笑，拱手为礼，左手向着上首的座位一伸，请客人坐下。碧纱灯笼照映下，见这书生手白胜雪，再看他相貌，玉颊微瘦，眉弯鼻挺，一笑时左颊上浅浅一个梨涡，远观之似是个风流俊俏的公子，这时相向而对，显是个女扮男装的妙龄丽人。\n",
      "　　张翠山虽倜傥潇洒，但师门规矩，男女之防守得极紧。武当七侠行走江湖，于女色上人人律己严谨，他见对方是个女子，一愕之下，登时脸红，站起身来，倒跃回岸，拱手道：“在下不知姑娘女扮男装，多有冒昧。”\n",
      "　　那少女不答。忽听得桨声响起，小舟缓缓荡向湖心，听那少女抚琴歌道：“今夕兴尽，来宵悠悠，六和塔下，垂柳扁舟。彼君子兮，宁当来游？”舟去渐远，歌声渐低，但见波影浮动，一灯如豆，隐入了湖光水色。\n",
      "　　在一番刀光剑影、腥风血雨的剧斗后，忽然遇上这等缥缈旖旎的风光，张翠山悄立湖畔，不由得思如潮涌，过了半个多时辰，才回客店。\n",
      "　　次日临安城中，龙门镖局数十口人命的大血案已传得沸沸扬扬。张翠山外貌蕴藉儒雅，自然谁也不会疑心到他身上。\n",
      "{'score': 'yes'}\n"
     ]
    }
   ],
   "source": [
    "### 3.2 Retrieval Grader\n",
    "# 检索 评分者\n",
    "\"\"\"您是一名评分员，评估检索文档与用户问题的相关性。\\ n\n",
    "下面是检索到的文档：  {document} \\n\\n\n",
    "下面是用户的问题：{question} \\n\n",
    "如果文档包含与用户问题相关的关键字，则将其评分为相关。\\ n\n",
    "这并不需要严格的测试。目标是过滤掉错误的检索。\\ n\n",
    "给出一个二元分数“是”或“否”，以表明该文档是否与问题相关。\\ n\n",
    "将二进制得分提供为一个只有一个键` score `的JSON，并且没有预表或解释。\n",
    "\"\"\"\n",
    "\n",
    "\n",
    "from langchain.prompts import PromptTemplate\n",
    "# from langchain_community.chat_models import ChatOllama\n",
    "from langchain_core.output_parsers import JsonOutputParser\n",
    "\n",
    "\n",
    "\n",
    "prompt = PromptTemplate(\n",
    "    template=\"\"\"You are a grader assessing relevance of a retrieved document to a user question. \\n \n",
    "    Here is the retrieved document: \\n\\n {document} \\n\\n\n",
    "    Here is the user question: {question} \\n\n",
    "    If the document contains keywords related to the user question, grade it as relevant. \\n\n",
    "    It does not need to be a stringent test. The goal is to filter out erroneous retrievals. \\n\n",
    "    Give a binary score 'yes' or 'no' score to indicate whether the document is relevant to the question. \\n\n",
    "    Provide the binary score as a JSON with a single key 'score' and no premable or explanation.\"\"\",\n",
    "    input_variables=[\"question\", \"document\"],\n",
    ")\n",
    "\n",
    "retrieval_grader = prompt | llm | JsonOutputParser()\n",
    "question = \"张翠山是谁\"\n",
    "# k 表示top-k的数量，找到最相关的k个文档\n",
    "\n",
    "docs = retriever.get_relevant_documents(question,k=10)\n",
    "print(len(docs))\n",
    "doc_txt = docs[1].page_content\n",
    "print(doc_txt)\n",
    "print(retrieval_grader.invoke({\"question\": question, \"document\": doc_txt}))"
   ]
  },
  {
   "cell_type": "code",
   "execution_count": 9,
   "id": "5e31dcbe",
   "metadata": {},
   "outputs": [
    {
     "name": "stderr",
     "output_type": "stream",
     "text": [
      "e:\\miniconda\\envs\\langgraph_v2\\Lib\\site-packages\\langsmith\\client.py:272: LangSmithMissingAPIKeyWarning: API key must be provided when using hosted LangSmith API\n",
      "  warnings.warn(\n"
     ]
    },
    {
     "name": "stdout",
     "output_type": "stream",
     "text": [
      "prompt:input_variables=['context', 'question'] input_types={} partial_variables={} metadata={'lc_hub_owner': 'rlm', 'lc_hub_repo': 'rag-prompt', 'lc_hub_commit_hash': '50442af133e61576e74536c6556cefe1fac147cad032f4377b60c436e6cdcb6e'} messages=[HumanMessagePromptTemplate(prompt=PromptTemplate(input_variables=['context', 'question'], input_types={}, partial_variables={}, template=\"You are an assistant for question-answering tasks. Use the following pieces of retrieved context to answer the question. If you don't know the answer, just say that you don't know. Use three sentences maximum and keep the answer concise.\\nQuestion: {question} \\nContext: {context} \\nAnswer:\"), additional_kwargs={})]\n",
      "张翠山是金庸小说《倚天屠龙记》中的主要人物之一，武当派张三丰的第五弟子，武当七侠之一。他性格倜傥潇洒，武功高强，擅长使用“倚天屠龙功”。\n"
     ]
    }
   ],
   "source": [
    "### 3.3 Generate\n",
    "\n",
    "from langchain import hub\n",
    "from langchain_core.output_parsers import StrOutputParser\n",
    "\n",
    "# Prompt\n",
    "prompt = hub.pull(\"rlm/rag-prompt\")\n",
    "print(\"prompt:{}\".format(prompt))\n",
    "\n",
    "# LLM\n",
    "\n",
    "\n",
    "# Post-processing\n",
    "def format_docs(docs):\n",
    "    return \"\\n\\n\".join(doc.page_content for doc in docs)\n",
    "\n",
    "\n",
    "# Chain\n",
    "rag_chain = prompt | llm | StrOutputParser()\n",
    "\n",
    "# Run\n",
    "generation = rag_chain.invoke({\"context\": docs, \"question\": question})\n",
    "print(generation)\n",
    "\n",
    "# 流式输出\n",
    "\n",
    "\n",
    "\n"
   ]
  },
  {
   "cell_type": "code",
   "execution_count": 10,
   "id": "5af31210",
   "metadata": {},
   "outputs": [
    {
     "name": "stderr",
     "output_type": "stream",
     "text": [
      "<>:3: SyntaxWarning: invalid escape sequence '\\ '\n",
      "<>:3: SyntaxWarning: invalid escape sequence '\\ '\n",
      "C:\\Users\\dell\\AppData\\Local\\Temp\\ipykernel_32800\\3322745778.py:3: SyntaxWarning: invalid escape sequence '\\ '\n",
      "  \"\"\"“你是一名评分者，评估一个答案是否基于一组事实。\\ n\n"
     ]
    },
    {
     "data": {
      "text/plain": [
       "{'score': 'yes'}"
      ]
     },
     "execution_count": 10,
     "metadata": {},
     "output_type": "execute_result"
    }
   ],
   "source": [
    "### 3.4 Hallucination Grader 幻觉评分员\n",
    "\n",
    "\"\"\"“你是一名评分者，评估一个答案是否基于一组事实。\\ n\n",
    "以下是事实：\n",
    "\\n ------- \\n\n",
    "{文档}\n",
    "\\n ------- \\n\n",
    "下面是答案：{generation}\n",
    "给出一个“是”或“不是”的二元分数，以表明答案是否有一系列事实支持。\\ n\n",
    "将二进制得分提供为一个只有` score `键的JSON，没有序言或解释。\"\"\"\n",
    "\n",
    "\n",
    "\n",
    "# Prompt\n",
    "prompt = PromptTemplate(\n",
    "    template=\"\"\"You are a grader assessing whether an answer is grounded in / supported by a set of facts. \\n \n",
    "    Here are the facts:\n",
    "    \\n ------- \\n\n",
    "    {documents} \n",
    "    \\n ------- \\n\n",
    "    Here is the answer: {generation}\n",
    "    Give a binary score 'yes' or 'no' score to indicate whether the answer is grounded in / supported by a set of facts. \\n\n",
    "    Provide the binary score as a JSON with a single key 'score' and no preamble or explanation.\"\"\",\n",
    "    input_variables=[\"generation\", \"documents\"],\n",
    ")\n",
    "\n",
    "hallucination_grader = prompt | llm | JsonOutputParser()\n",
    "hallucination_grader.invoke({\"documents\": docs, \"generation\": generation})"
   ]
  },
  {
   "cell_type": "code",
   "execution_count": 11,
   "id": "783be9ee",
   "metadata": {},
   "outputs": [
    {
     "name": "stderr",
     "output_type": "stream",
     "text": [
      "<>:2: SyntaxWarning: invalid escape sequence '\\ '\n",
      "<>:2: SyntaxWarning: invalid escape sequence '\\ '\n",
      "C:\\Users\\dell\\AppData\\Local\\Temp\\ipykernel_32800\\2645116219.py:2: SyntaxWarning: invalid escape sequence '\\ '\n",
      "  \"\"\"你正在评估一个答案是否对解决一个问题有用。\\ n\n"
     ]
    },
    {
     "data": {
      "text/plain": [
       "{'score': 'yes'}"
      ]
     },
     "execution_count": 11,
     "metadata": {},
     "output_type": "execute_result"
    }
   ],
   "source": [
    "### 3.5 Answer Grader  答案评分员\n",
    "\"\"\"你正在评估一个答案是否对解决一个问题有用。\\ n\n",
    "下面是答案：\n",
    "\\n ------- \\n\n",
    "{一代}\n",
    "\\n ------- \\n\n",
    "问题是这样的：{question}\n",
    "给出一个二元分数“是”或“否”，以表明该答案对解决问题是否有用。\\ n\n",
    "将二进制得分提供为一个只有` score `键的JSON，没有序言或解释。\"\"\"\n",
    "\n",
    "\n",
    "# Prompt\n",
    "prompt = PromptTemplate(\n",
    "    template=\"\"\"You are a grader assessing whether an answer is useful to resolve a question. \\n \n",
    "    Here is the answer:\n",
    "    \\n ------- \\n\n",
    "    {generation} \n",
    "    \\n ------- \\n\n",
    "    Here is the question: {question}\n",
    "    Give a binary score 'yes' or 'no' to indicate whether the answer is useful to resolve a question. \\n\n",
    "    Provide the binary score as a JSON with a single key 'score' and no preamble or explanation.\"\"\",\n",
    "    input_variables=[\"generation\", \"question\"],\n",
    ")\n",
    "\n",
    "answer_grader = prompt | llm | JsonOutputParser()\n",
    "answer_grader.invoke({\"question\": question, \"generation\": generation})"
   ]
  },
  {
   "cell_type": "code",
   "execution_count": 12,
   "id": "56404f99",
   "metadata": {},
   "outputs": [
    {
     "name": "stderr",
     "output_type": "stream",
     "text": [
      "<>:3: SyntaxWarning: invalid escape sequence '\\ '\n",
      "<>:3: SyntaxWarning: invalid escape sequence '\\ '\n",
      "C:\\Users\\dell\\AppData\\Local\\Temp\\ipykernel_32800\\2576231723.py:3: SyntaxWarning: invalid escape sequence '\\ '\n",
      "  \"\"\"\n"
     ]
    },
    {
     "name": "stdout",
     "output_type": "stream",
     "text": [
      "question:张翠山是谁\n"
     ]
    },
    {
     "data": {
      "text/plain": [
       "'张翠山在金庸武侠小说《倚天屠龙记》中扮演什么角色？他的身世背景和关键情节有哪些？'"
      ]
     },
     "execution_count": 12,
     "metadata": {},
     "output_type": "execute_result"
    }
   ],
   "source": [
    "### 3.6 Question Re-writer  问题重写器\n",
    "\n",
    "\"\"\"\n",
    "你是一个问题重写器，它将输入的问题转换为优化过的更好的版本\n",
    "用于vectorstore检索。看看最初的问题，然后提出一个改进的问题。\\ n\n",
    "这是最初的问题： {question}。改进的无序言问题：\n",
    "\n",
    "\"\"\"\n",
    "# LLM\n",
    "\n",
    "# Prompt\n",
    "re_write_prompt = PromptTemplate(\n",
    "    template=\"\"\"You a question re-writer that converts an input question to a better version that is optimized \\n \n",
    "     for vectorstore retrieval. Look at the initial and formulate an improved question. \\n\n",
    "     Here is the initial question: \\n\\n {question}. Improved question with no preamble: \\n \"\"\",\n",
    "    input_variables=[\"generation\", \"question\"],\n",
    ")\n",
    "\n",
    "question_rewriter = re_write_prompt | llm | StrOutputParser()\n",
    "print(\"question:{}\".format(question))\n",
    "\n",
    "question_rewriter.invoke({\"question\": question})"
   ]
  },
  {
   "cell_type": "markdown",
   "id": "6177d3e5",
   "metadata": {},
   "source": [
    "\n",
    "# 4. 构建agent，构建流程图\n",
    "\n"
   ]
  },
  {
   "cell_type": "code",
   "execution_count": 13,
   "id": "c3186574",
   "metadata": {},
   "outputs": [],
   "source": [
    "## 4.1  Graph state  构建agent的图\n",
    "\n",
    "from typing import List\n",
    "\n",
    "from typing_extensions import TypedDict\n",
    "\n",
    "\n",
    "class GraphState(TypedDict):\n",
    "    \"\"\"\n",
    "    Represents the state of our graph.\n",
    "\n",
    "    Attributes:\n",
    "        question: question\n",
    "        generation: LLM generation\n",
    "        documents: list of documents\n",
    "    \"\"\"\n",
    "\n",
    "    question: str\n",
    "    generation: str\n",
    "    documents: List[str]\n",
    "\n",
    "### Nodes\n",
    "\n",
    "# 检索文件\n",
    "def retrieve(state):\n",
    "    \"\"\"\n",
    "    Retrieve documents\n",
    "\n",
    "    Args:\n",
    "        state (dict): The current graph state\n",
    "\n",
    "    Returns:\n",
    "        state (dict): New key added to state, documents, that contains retrieved documents\n",
    "    \"\"\"\n",
    "    print(\"---RETRIEVE---\")\n",
    "    question = state[\"question\"]\n",
    "\n",
    "    # Retrieval\n",
    "    documents = retriever.get_relevant_documents(question,k=5)\n",
    "    return {\"documents\": documents, \"question\": question}\n",
    "\n",
    "# 生成答案\n",
    "def generate(state):\n",
    "    \"\"\"\n",
    "    Generate answer\n",
    "\n",
    "    Args:\n",
    "        state (dict): The current graph state\n",
    "\n",
    "    Returns:\n",
    "        state (dict): New key added to state, generation, that contains LLM generation\n",
    "    \"\"\"\n",
    "    print(\"---GENERATE---\")\n",
    "    question = state[\"question\"]\n",
    "    documents = state[\"documents\"]\n",
    "\n",
    "    # RAG generation\n",
    "    generation = rag_chain.invoke({\"context\": documents, \"question\": question})\n",
    "    return {\"documents\": documents, \"question\": question, \"generation\": generation}\n",
    "\n",
    "# 检索的文档评分\n",
    "def grade_documents(state):\n",
    "    \"\"\"\n",
    "    Determines whether the retrieved documents are relevant to the question.\n",
    "\n",
    "    Args:\n",
    "        state (dict): The current graph state\n",
    "\n",
    "    Returns:\n",
    "        state (dict): Updates documents key with only filtered relevant documents\n",
    "    \"\"\"\n",
    "\n",
    "    print(\"---CHECK DOCUMENT RELEVANCE TO QUESTION---\")\n",
    "    question = state[\"question\"]\n",
    "    documents = state[\"documents\"]\n",
    "    print(\"一共检索了{}个段落\".format(len(documents)))\n",
    "          \n",
    "    # Score each doc\n",
    "    filtered_docs = []\n",
    "    curr_index=0\n",
    "    for d in documents:\n",
    "        curr_index+=1\n",
    "        score = retrieval_grader.invoke(\n",
    "            {\"question\": question, \"document\": d.page_content}\n",
    "        )\n",
    "        print(\"---DOCUMENT SCORE:---\")\n",
    "\n",
    "        grade = score[\"score\"]\n",
    "        if grade == \"yes\":\n",
    "            print(\"第{curr_index}个段落---GRADE: DOCUMENT RELEVANT---\".format(curr_index=curr_index))\n",
    "            filtered_docs.append(d)\n",
    "        else:\n",
    "            print(\"第{curr_index}个段落---GRADE: DOCUMENT NOT RELEVANT---\".format(curr_index=curr_index))\n",
    "            continue\n",
    "        \n",
    "\n",
    "    print(\"最后筛选后与问题相关的段落有{}个\".format(len(filtered_docs)))\n",
    "\n",
    "    return {\"documents\": filtered_docs, \"question\": question}\n",
    "\n",
    "\n",
    "# 重写问题\n",
    "def transform_query(state):\n",
    "    \"\"\"\n",
    "    Transform the query to produce a better question.\n",
    "\n",
    "    Args:\n",
    "        state (dict): The current graph state\n",
    "\n",
    "    Returns:\n",
    "        state (dict): Updates question key with a re-phrased question\n",
    "    \"\"\"\n",
    "\n",
    "    print(\"---TRANSFORM QUERY---\")\n",
    "    question = state[\"question\"]\n",
    "    documents = state[\"documents\"]\n",
    "\n",
    "    # Re-write question\n",
    "    better_question = question_rewriter.invoke({\"question\": question})\n",
    "    print(\"原始问题：{}\".format(question))\n",
    "    print(\"重写后的问题：{}\".format(better_question))\n",
    "    return {\"documents\": documents, \"question\": better_question}\n",
    "\n",
    "\n",
    "### Edges\n",
    "\n",
    "# 确定是生成答案还是重新生成问题。\n",
    "def decide_to_generate(state):\n",
    "    \"\"\"\n",
    "    Determines whether to generate an answer, or re-generate a question.\n",
    "\n",
    "    Args:\n",
    "        state (dict): The current graph state\n",
    "\n",
    "    Returns:\n",
    "        str: Binary decision for next node to call\n",
    "    \"\"\"\n",
    "\n",
    "    print(\"---ASSESS GRADED DOCUMENTS---\")\n",
    "    state[\"question\"]\n",
    "    filtered_documents = state[\"documents\"]\n",
    "\n",
    "    if not filtered_documents:\n",
    "        # All documents have been filtered check_relevance\n",
    "        # We will re-generate a new query\n",
    "        print(\n",
    "            \"---DECISION: ALL DOCUMENTS ARE NOT RELEVANT TO QUESTION, TRANSFORM QUERY---\"\n",
    "        )\n",
    "        return \"transform_query\"\n",
    "    else:\n",
    "        # We have relevant documents, so generate answer\n",
    "        print(\"---DECISION: GENERATE---\")\n",
    "        return \"generate\"\n",
    "\n",
    "\n",
    "# 确定生成是否基于文档并回答问题。\n",
    "def grade_generation_v_documents_and_question(state):\n",
    "    \"\"\"\n",
    "    Determines whether the generation is grounded in the document and answers question.\n",
    "\n",
    "    Args:\n",
    "        state (dict): The current graph state\n",
    "\n",
    "    Returns:\n",
    "        str: Decision for next node to call\n",
    "    \"\"\"\n",
    "\n",
    "    print(\"---CHECK HALLUCINATIONS---\")\n",
    "    question = state[\"question\"]\n",
    "    documents = state[\"documents\"]\n",
    "    generation = state[\"generation\"]\n",
    "\n",
    "    score = hallucination_grader.invoke(\n",
    "        {\"documents\": documents, \"generation\": generation}\n",
    "    )\n",
    "    grade = score[\"score\"]\n",
    "\n",
    "    # Check hallucination\n",
    "    if grade == \"yes\":\n",
    "        print(\"---DECISION: GENERATION IS GROUNDED IN DOCUMENTS---\")\n",
    "        # Check question-answering\n",
    "        print(\"---GRADE GENERATION vs QUESTION---\")\n",
    "        score = answer_grader.invoke({\"question\": question, \"generation\": generation})\n",
    "        grade = score[\"score\"]\n",
    "        if grade == \"yes\":\n",
    "            print(\"---DECISION: GENERATION ADDRESSES QUESTION---\")\n",
    "            return \"useful\"\n",
    "        else:\n",
    "            print(\"---DECISION: GENERATION DOES NOT ADDRESS QUESTION---\")\n",
    "            return \"not useful\"\n",
    "    else:\n",
    "        print(\"---DECISION: GENERATION IS NOT GROUNDED IN DOCUMENTS, RE-TRY---\")\n",
    "        return \"not supported\"\n",
    "    \n"
   ]
  },
  {
   "cell_type": "code",
   "execution_count": 14,
   "id": "d326c8fb",
   "metadata": {},
   "outputs": [],
   "source": [
    "## 4.2 创建流程图，增加节点和边\n",
    "\n",
    "from langgraph.graph import END, StateGraph, START\n",
    "\n",
    "workflow = StateGraph(GraphState)\n",
    "\n",
    "# Define the nodes\n",
    "workflow.add_node(\"retrieve\", retrieve)  # retrieve\n",
    "workflow.add_node(\"grade_documents\", grade_documents)  # grade documents\n",
    "workflow.add_node(\"generate\", generate)  # generate\n",
    "workflow.add_node(\"transform_query\", transform_query)  # transform_query\n",
    "\n",
    "# Build graph\n",
    "workflow.add_edge(START, \"retrieve\")\n",
    "workflow.add_edge(\"retrieve\", \"grade_documents\")\n",
    "workflow.add_conditional_edges(\n",
    "    \"grade_documents\",\n",
    "    decide_to_generate,\n",
    "    {\n",
    "        \"transform_query\": \"transform_query\",\n",
    "        \"generate\": \"generate\",\n",
    "    },\n",
    ")\n",
    "workflow.add_edge(\"transform_query\", \"retrieve\")\n",
    "workflow.add_conditional_edges(\n",
    "    \"generate\",\n",
    "    grade_generation_v_documents_and_question,\n",
    "    {\n",
    "        \"not supported\": \"generate\",\n",
    "        \"useful\": END,\n",
    "        \"not useful\": \"transform_query\",\n",
    "    },\n",
    ")\n",
    "\n",
    "# Compile\n",
    "app = workflow.compile()\n",
    "\n",
    "\n"
   ]
  },
  {
   "cell_type": "code",
   "execution_count": 15,
   "id": "00db43d4",
   "metadata": {},
   "outputs": [
    {
     "data": {
      "image/png": "[encoded data removed]",
      "text/plain": [
       "<IPython.core.display.Image object>"
      ]
     },
     "metadata": {},
     "output_type": "display_data"
    }
   ],
   "source": [
    "# 4.3 打印输出整体agent的流程图\n",
    "\n",
    "from IPython.display import Image, display\n",
    "\n",
    "\n",
    "try:\n",
    "    display(Image(app.get_graph().draw_mermaid_png()))\n",
    "except Exception:\n",
    "    # This requires some extra dependencies and is optional\n",
    "    pass"
   ]
  },
  {
   "cell_type": "code",
   "execution_count": 16,
   "id": "ee66afa7",
   "metadata": {},
   "outputs": [
    {
     "name": "stdout",
     "output_type": "stream",
     "text": [
      "---RETRIEVE---\n",
      "\"Node 'retrieve':\"\n",
      "'\\n---\\n'\n",
      "---CHECK DOCUMENT RELEVANCE TO QUESTION---\n",
      "一共检索了5个段落\n",
      "---DOCUMENT SCORE:---\n",
      "第1个段落---GRADE: DOCUMENT RELEVANT---\n",
      "---DOCUMENT SCORE:---\n",
      "第2个段落---GRADE: DOCUMENT RELEVANT---\n",
      "---DOCUMENT SCORE:---\n",
      "第3个段落---GRADE: DOCUMENT RELEVANT---\n",
      "---DOCUMENT SCORE:---\n",
      "第4个段落---GRADE: DOCUMENT RELEVANT---\n",
      "---DOCUMENT SCORE:---\n",
      "第5个段落---GRADE: DOCUMENT RELEVANT---\n",
      "最后筛选后与问题相关的段落有5个\n",
      "---ASSESS GRADED DOCUMENTS---\n",
      "---DECISION: GENERATE---\n",
      "\"Node 'grade_documents':\"\n",
      "'\\n---\\n'\n",
      "---GENERATE---\n",
      "---CHECK HALLUCINATIONS---\n",
      "---DECISION: GENERATION IS GROUNDED IN DOCUMENTS---\n",
      "---GRADE GENERATION vs QUESTION---\n",
      "---DECISION: GENERATION ADDRESSES QUESTION---\n",
      "\"Node 'generate':\"\n",
      "'\\n---\\n'\n",
      "'张翠山是金庸小说《倚天屠龙记》中的角色，武当派弟子。他的师傅是武当派创始人张三丰。'\n"
     ]
    }
   ],
   "source": [
    "## 4.4 最后运行这个agent\n",
    "\n",
    "from pprint import pprint\n",
    "\n",
    "# Run\n",
    "inputs = {\"question\": \" 张翠山是谁，他的师傅是谁?\"}\n",
    "for output in app.stream(inputs):\n",
    "    for key, value in output.items():\n",
    "        # Node\n",
    "        pprint(f\"Node '{key}':\")\n",
    "        # Optional: print full state at each node\n",
    "        # pprint.pprint(value[\"keys\"], indent=2, width=80, depth=None)\n",
    "    pprint(\"\\n---\\n\")\n",
    "\n",
    "# Final generation\n",
    "pprint(value[\"generation\"])"
   ]
  }
 ],
 "metadata": {
  "kernelspec": {
   "display_name": "langgraph_v2",
   "language": "python",
   "name": "python3"
  },
  "language_info": {
   "codemirror_mode": {
    "name": "ipython",
    "version": 3
   },
   "file_extension": ".py",
   "mimetype": "text/x-python",
   "name": "python",
   "nbconvert_exporter": "python",
   "pygments_lexer": "ipython3",
   "version": "3.12.9"
  }
 },
 "nbformat": 4,
 "nbformat_minor": 5
}
