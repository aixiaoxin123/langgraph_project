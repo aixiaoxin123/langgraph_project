{
 "cells": [
  {
   "cell_type": "markdown",
   "id": "47fc49ce",
   "metadata": {},
   "source": [
    "# 创建虚拟环境\n",
    "conda create -n langgraph  python=3.12\n",
    "\n",
    "# 激活虚拟环境\n",
    "conda activate langgraph \n",
    "\n",
    "\n",
    "# 安装uv\n",
    "\n",
    "pip install uv -i https://pypi.tuna.tsinghua.edu.cn/simple/\n",
    "\n",
    "# 安装 jupyter \n",
    "uv pip install     -i https://pypi.tuna.tsinghua.edu.cn/simple/ jupyter\n",
    "\n",
    "\n",
    "\n",
    "\n",
    "\n",
    "# 安装langgraph依赖包\n",
    "\n",
    "uv pip install -U langgraph  langsmith langchain langchain[openai]  langchain-tavily  langchain-community langchain-text-splitters  -i https://pypi.tuna.tsinghua.edu.cn/simple/\n",
    "\n",
    "\n",
    "\n",
    "\n",
    "\n",
    "\n"
   ]
  },
  {
   "cell_type": "code",
   "execution_count": null,
   "id": "b461642a",
   "metadata": {},
   "outputs": [],
   "source": [
    "# 创建虚拟环境\n",
    "conda create -n langgraph  python=3.12\n",
    "\n",
    "# 激活虚拟环境\n",
    "conda activate langgraph \n",
    "\n",
    "\n",
    "# 安装uv\n",
    "\n",
    "pip install uv -i https://pypi.tuna.tsinghua.edu.cn/simple/\n",
    "\n",
    "# 安装 jupyter \n",
    "uv pip install     -i https://pypi.tuna.tsinghua.edu.cn/simple/ jupyter\n",
    "\n",
    "\n",
    "\n",
    "\n",
    "\n",
    "# 安装langgraph依赖包\n",
    "\n",
    "uv pip install -U langgraph  langsmith langchain langchain[openai]  langchain-tavily  langchain-community langchain-text-splitters  -i https://pypi.tuna.tsinghua.edu.cn/simple/\n",
    "\n",
    "\n",
    "\n",
    "\n",
    "\n",
    "\n"
   ]
  }
 ],
 "metadata": {
  "kernelspec": {
   "display_name": "langgraph_v2",
   "language": "python",
   "name": "python3"
  },
  "language_info": {
   "name": "python",
   "version": "3.12.9"
  }
 },
 "nbformat": 4,
 "nbformat_minor": 5
}
