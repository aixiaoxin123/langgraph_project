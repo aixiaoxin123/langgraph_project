{
 "cells": [
  {
   "cell_type": "markdown",
   "id": "e2e66bca",
   "metadata": {},
   "source": [
    "参考文档教程：\n",
    "https://langchain-ai.github.io/langgraph/tutorials/get-started/2-add-tools/\n",
    "\n"
   ]
  },
  {
   "cell_type": "code",
   "execution_count": null,
   "id": "935de70d",
   "metadata": {},
   "outputs": [],
   "source": [
    "# https://python.langchain.com/docs/integrations/tools/tavily_search/\n",
    "\n",
    "# 获取密钥的地址： https://app.tavily.com/sign-in\n",
    "\n",
    "\n",
    "\n",
    "\n",
    "import os\n",
    "TAVILY_API_KEY=\"tvly-dev-123\"\n",
    "os.environ[\"TAVILY_API_KEY\"] = TAVILY_API_KEY\n"
   ]
  },
  {
   "cell_type": "code",
   "execution_count": 11,
   "id": "94915238",
   "metadata": {},
   "outputs": [
    {
     "data": {
      "text/plain": [
       "{'query': \"What's a 'node' in LangGraph?\",\n",
       " 'follow_up_questions': None,\n",
       " 'answer': None,\n",
       " 'images': [],\n",
       " 'results': [{'title': \"Introduction to LangGraph: A Beginner's Guide - Medium\",\n",
       "   'url': 'https://medium.com/@cplog/introduction-to-langgraph-a-beginners-guide-14f9be027141',\n",
       "   'content': 'Stateful Graph: LangGraph revolves around the concept of a stateful graph, where each node in the graph represents a step in your computation, and the graph maintains a state that is passed around and updated as the computation progresses. LangGraph supports conditional edges, allowing you to dynamically determine the next node to execute based on the current state of the graph. We define nodes for classifying the input, handling greetings, and handling search queries. def classify_input_node(state): LangGraph is a versatile tool for building complex, stateful applications with LLMs. By understanding its core concepts and working through simple examples, beginners can start to leverage its power for their projects. Remember to pay attention to state management, conditional edges, and ensuring there are no dead-end nodes in your graph.',\n",
       "   'score': 0.7065353,\n",
       "   'raw_content': None},\n",
       "  {'title': 'LangGraph Basics: Understanding State, Schema, Nodes, and Edges',\n",
       "   'url': 'https://medium.com/@vivekvjnk/langgraph-basics-understanding-state-schema-nodes-and-edges-77f2fd17cae5',\n",
       "   'content': 'LangGraph Basics: Understanding State, Schema, Nodes, and Edges | by Story_Teller | Medium LangGraph Basics: Understanding State, Schema, Nodes, and Edges LangGraph Basics: Understanding State, Schema, Nodes, and Edges These predefined structures in the messaging app are synonymous with the schema of the state in LangGraph. Just as a messaging app ensures all interactions (messages) follow a consistent format, the schema in LangGraph ensures the state passed along edges is structured and interpretable. This static schema allows nodes to rely on a consistent state format, ensuring seamless communication along edges throughout the graph. In this article, we explored the foundational concepts of graph-based systems, drawing parallels to familiar messaging applications to illustrate how edges, nodes, and state transitions function seamlessly in dynamic workflows.',\n",
       "   'score': 0.6501347,\n",
       "   'raw_content': None},\n",
       "  {'title': 'LangGraph Tutorial: What Is LangGraph and How to Use It?',\n",
       "   'url': 'https://www.datacamp.com/tutorial/langgraph-tutorial',\n",
       "   'content': 'LangGraph is a library within the LangChain ecosystem that provides a framework for defining, coordinating, and executing multiple LLM agents (or chains) in a structured and efficient manner. By managing the flow of data and the sequence of operations, LangGraph allows developers to focus on the high-level logic of their applications rather than the intricacies of agent coordination. Whether you need a chatbot that can handle various types of user requests or a multi-agent system that performs complex tasks, LangGraph provides the tools to build exactly what you need. LangGraph significantly simplifies the development of complex LLM applications by providing a structured framework for managing state and coordinating agent interactions.',\n",
       "   'score': 0.5008063,\n",
       "   'raw_content': None},\n",
       "  {'title': \"LangGraph Tutorial: Building Agents with LangChain's Agent Framework\",\n",
       "   'url': 'https://www.getzep.com/ai-agents/langgraph-tutorial',\n",
       "   'content': \"Finally, we use Zep's long-term memory for egents to create an agent that remembers previous conversations and user facts.Â Finally, we will create our LangGraph agent that uses long-term memory to respond to user queries: The agent responses will be based on the user facts from Zep's memory.Â We will define a graph state that stores messages originating from different nodes, user names, and session IDs. Next, we will create the search_facts tool, which uses the Zep clientâ\\x80\\x99s memory.search_sessions() method to find user facts relevant to the query. Adding external tools enables the agents to retrieve external information, and persisting memory across conversations enables the LangGraph agent to provide contextualized responses.Â\",\n",
       "   'score': 0.30464175,\n",
       "   'raw_content': None},\n",
       "  {'title': 'LangGraph - LangChain',\n",
       "   'url': 'https://www.langchain.com/langgraph',\n",
       "   'content': \"[LangGraph](https://langchain-ai.github.io/langgraph/tutorials/introduction/)[LangSmith](https://docs.smith.langchain.com/)[LangChain](https://python.langchain.com/docs/introduction/) ![](https://cdn.prod.website-files.com/65b8cd72835ceeacd4449a53/667b080e4b3ca12dc5d5d439_Langgraph%20UI-2.webp) [Read a conceptual guide](https://langchain-ai.github.io/langgraph/concepts/agentic_concepts/#human-in-the-loop) ![](https://cdn.prod.website-files.com/65b8cd72835ceeacd4449a53/68152f21a3b30d65d6c71bb3_Customizable-Agent-Architectures_v3%20(1).gif) [See different agent architectures](https://langchain-ai.github.io/langgraph/concepts/agentic_concepts/) [Learn about agent memory](https://langchain-ai.github.io/langgraph/concepts/memory/) ![](https://cdn.prod.website-files.com/65b8cd72835ceeacd4449a53/67878de387cf10f90c7ad65f_LangGraph---Memory-HQ.gif) [![](https://cdn.prod.website-files.com/65b8cd72835ceeacd4449a53/678e35d6c553c4fb20f9b753_Frame%2099644.webp)![](https://cdn.prod.website-files.com/65b8cd72835ceeacd4449a53/6787ae0bce5c99dd808545ce_card%202.webp)](https://academy.langchain.com/courses/intro-to-langgraph) Design agent-driven user experiences with LangGraph Platform's APIs. Quickly deploy and scale your application with infrastructure built for agents. The next chapter in building complex production-ready features with LLMs is agentic, and with LangGraph and LangSmith, LangChain delivers an out-of-the-box solution to iterate quickly, debug immediately, and scale effortlessly.” The next chapter in building complex production-ready features with LLMs is agentic, and with LangGraph and LangSmith, LangChain delivers an out-of-the-box solution to iterate quickly, debug immediately, and scale effortlessly.” LangGraph Platform is a service for deploying and scaling LangGraph applications, with an opinionated API for building agent UXs, plus an integrated developer studio.\",\n",
       "   'score': 0.1965488,\n",
       "   'raw_content': None}],\n",
       " 'response_time': 1.53}"
      ]
     },
     "execution_count": 11,
     "metadata": {},
     "output_type": "execute_result"
    }
   ],
   "source": [
    "from langchain_tavily import TavilySearch\n",
    "\n",
    "tool = TavilySearch(max_results=5)\n",
    "tools = [tool]\n",
    "tool.invoke(\"What's a 'node' in LangGraph?\")\n"
   ]
  },
  {
   "cell_type": "code",
   "execution_count": 12,
   "id": "353b6ab4",
   "metadata": {},
   "outputs": [],
   "source": [
    "import os\n",
    "from langchain.chat_models import init_chat_model\n",
    "\n",
    "API_KEY = \"sk-123\"\n",
    "\n",
    "BASE_URL = \"https://api.deepseek.com\"\n",
    "\n",
    "os.environ[\"OPENAI_API_KEY\"] = API_KEY\n",
    "os.environ[\"OPENAI_API_BASE\"] = BASE_URL\n",
    "\n",
    "\n",
    "llm = init_chat_model(\"openai:deepseek-chat\")"
   ]
  },
  {
   "cell_type": "code",
   "execution_count": 13,
   "id": "c8a93778",
   "metadata": {},
   "outputs": [
    {
     "data": {
      "text/plain": [
       "<langgraph.graph.state.StateGraph at 0x2c7d006b800>"
      ]
     },
     "execution_count": 13,
     "metadata": {},
     "output_type": "execute_result"
    }
   ],
   "source": [
    "#我们现在可以将它合并到 ：StateGraph\n",
    "\n",
    "from typing import Annotated\n",
    "\n",
    "from typing_extensions import TypedDict\n",
    "\n",
    "from langgraph.graph import StateGraph, START, END\n",
    "from langgraph.graph.message import add_messages\n",
    "\n",
    "class State(TypedDict):\n",
    "    messages: Annotated[list, add_messages]\n",
    "\n",
    "graph_builder = StateGraph(State)\n",
    "\n",
    "# Modification: tell the LLM which tools it can call\n",
    "# highlight-next-line\n",
    "llm_with_tools = llm.bind_tools(tools)\n",
    "\n",
    "def chatbot(state: State):\n",
    "    return {\"messages\": [llm_with_tools.invoke(state[\"messages\"])]}\n",
    "\n",
    "graph_builder.add_node(\"chatbot\", chatbot)"
   ]
  },
  {
   "cell_type": "code",
   "execution_count": 14,
   "id": "cca8fbae",
   "metadata": {},
   "outputs": [],
   "source": [
    "from typing import Annotated\n",
    "\n",
    "from langchain_tavily import TavilySearch\n",
    "from langchain_core.messages import BaseMessage\n",
    "from typing_extensions import TypedDict\n",
    "\n",
    "from langgraph.graph import StateGraph, START, END\n",
    "from langgraph.graph.message import add_messages\n",
    "from langgraph.prebuilt import ToolNode, tools_condition\n",
    "\n",
    "class State(TypedDict):\n",
    "    messages: Annotated[list, add_messages]\n",
    "\n",
    "graph_builder = StateGraph(State)\n",
    "\n",
    "tool = TavilySearch(max_results=2)\n",
    "tools = [tool]\n",
    "llm_with_tools = llm.bind_tools(tools)\n",
    "\n",
    "def chatbot(state: State):\n",
    "    return {\"messages\": [llm_with_tools.invoke(state[\"messages\"])]}\n",
    "\n",
    "graph_builder.add_node(\"chatbot\", chatbot)\n",
    "\n",
    "tool_node = ToolNode(tools=[tool])\n",
    "graph_builder.add_node(\"tools\", tool_node)\n",
    "\n",
    "graph_builder.add_conditional_edges(\n",
    "    \"chatbot\",\n",
    "    tools_condition,\n",
    ")\n",
    "# Any time a tool is called, we return to the chatbot to decide the next step\n",
    "graph_builder.add_edge(\"tools\", \"chatbot\")\n",
    "graph_builder.add_edge(START, \"chatbot\")\n",
    "graph = graph_builder.compile()"
   ]
  },
  {
   "cell_type": "code",
   "execution_count": 15,
   "id": "5c99c8ac",
   "metadata": {},
   "outputs": [
    {
     "data": {
      "image/png": "[encoded data removed]",
      "text/plain": [
       "<IPython.core.display.Image object>"
      ]
     },
     "metadata": {},
     "output_type": "display_data"
    }
   ],
   "source": [
    "from IPython.display import Image, display\n",
    "\n",
    "try:\n",
    "    display(Image(graph.get_graph().draw_mermaid_png()))\n",
    "except Exception:\n",
    "    # This requires some extra dependencies and is optional\n",
    "    pass"
   ]
  },
  {
   "cell_type": "code",
   "execution_count": 16,
   "id": "6176d9a0",
   "metadata": {},
   "outputs": [
    {
     "name": "stdout",
     "output_type": "stream",
     "text": [
      "User: langgraph是什么\n",
      "Assistant: \n",
      "Assistant: {\"query\": \"langgraph是什么\", \"follow_up_questions\": null, \"answer\": null, \"images\": [], \"results\": [{\"url\": \"https://www.cnblogs.com/smartloli/p/18276355\", \"title\": \"LangGraph实战- 哥不是小萝莉- 博客园\", \"content\": \"2.内容 LangGraph是一个功能强大的库，用于构建基于大型语言模型（LLM）的有状态、多参与者应用程序。 它旨在创建代理和多代理工作流，以实现复杂的任务和交\", \"score\": 0.9202254, \"raw_content\": null}, {\"url\": \"https://blog.csdn.net/musicml/article/details/136441895\", \"title\": \"一文搞懂LangChain 新利器：LangGraph 原创 - CSDN博客\", \"content\": \"LangGraph 是一个有用于构建有状态和多角色的 Agents 应用，它并不是一个独立于 Langchain 的新框架，而是基于 Langchain 之上构建的一个扩展库，可以与 Langchain 现有的链（Chains）、LangChain Expression Language（LCEL）等无缝协作。LangGraph 能够协调多个 Chain、Agent、Tool 等共同协作来完成输入任务，支持 LLM 调用“循环”和 Agent 过程的更精细化控制。\\nLangGraph 的实现方式是把之前基于 AgentExecutor 的黑盒调用过程，用一种新的形式来构建：状态图（StateGraph）。把基于 LLM 的任务（比如：RAG、代码生成等）细节用 Graph 进行精确的定义（定义图的节点与边），最后基于这个图来编译生成应用。在任务运行过程中，维持一个中央状态对象(state)，会根据节点的跳转不断更新，状态包含的属性可自行定义。\\n我们一起剖析下官方 RAG 应用的 Graph 案例，如下图所示，从而更好理解 LangGraph。 [...] Lan_g_Graph 是一个用于构建有状态和多角色的LLM Apps 的开源库，常用于 创建单代理和多代理的工作流。与其他LLM 框架相比，Lan_g_Graph 具备以下核心优势和特性：• 循环与分支：允许实现循环和条件逻辑，适用于大多数代理架构，区别于以有向无环图（DAG）为基础的解决方案。• 持久化：内置自动状态保存功能，支持在任何时刻暂停和恢复执行，便于错 误恢复、人类参与、时光回溯等复杂工作流。• 人类参与：在执行过程中可以中断，允许人类审核或编辑下一步操作，支持。\\nLan_g_Graph：构建多代理动态工作流的开源框架，支持人工干预、循环、持久性等复杂工作流自动化\\nCode1994的博客\\n01-03  1141 [...] Lan_g_Graph_是_Lan_g_Chai_n的高级库，为大型语言模型（LLM）带来循环计算能力。它超越了_Lan_g_Chai_n的线性工作流，通过循环支持复杂的任务处理。状态：维护计算过程中的上下文，实现基于累积数据的动态决策。节点：代表计算步骤，执行特定任务，可定制以适应不同工作流。边：连接节点，定义计算流程，支持条件逻辑，实现复杂工作流。_Lan_g_Graph_简化了AI开发，自动管理状态，保持上下文，使AI能智能响应变化。它让开发者专注于创_新，而非技术细节，同时确保应用程序的高性能和可靠性。\\n使用 Lan_g_Graph 构建生产级 AI Agent\\nJAvavvvvv的博客\\n12-20  1035\", \"score\": 0.910998, \"raw_content\": null}], \"response_time\": 1.36}\n",
      "Assistant: LangGraph 是一个用于构建基于大型语言模型（LLM）的有状态、多参与者应用程序的开源库。它是 LangChain 的一个扩展库，旨在创建代理（Agent）和多代理工作流，以实现复杂的任务和交互。\n",
      "\n",
      "### 主要特点：\n",
      "1. **有状态和多角色**：支持构建有状态和多角色的代理应用，能够协调多个链（Chains）、代理（Agents）和工具（Tools）共同完成任务。\n",
      "2. **循环与分支**：允许实现循环和条件逻辑，适用于大多数代理架构，区别于传统的有向无环图（DAG）解决方案。\n",
      "3. **持久化**：内置自动状态保存功能，支持在任何时刻暂停和恢复执行，便于错误恢复、人类参与或回溯工作流。\n",
      "4. **人类参与**：在执行过程中可以中断，允许人类审核或编辑下一步操作。\n",
      "\n",
      "### 核心概念：\n",
      "- **状态图（StateGraph）**：通过定义图的节点与边来精确描述基于 LLM 的任务（如 RAG、代码生成等），并基于此图编译生成应用。\n",
      "- **中央状态对象**：在任务运行过程中，维持一个中央状态对象，根据节点的跳转不断更新。\n",
      "\n",
      "### 应用场景：\n",
      "- 单代理或多代理工作流。\n",
      "- 需要动态决策和复杂逻辑的任务。\n",
      "- 需要人工干预或持久化状态的工作流。\n",
      "\n",
      "LangGraph 简化了 AI 开发，使开发者能够专注于创新，同时确保应用程序的高性能和可靠性。\n",
      "\n",
      "更多信息可以参考以下链接：\n",
      "- [LangGraph实战 - 博客园](https://www.cnblogs.com/smartloli/p/18276355)\n",
      "- [一文搞懂LangGraph - CSDN博客](https://blog.csdn.net/musicml/article/details/136441895)\n",
      "User: q\n",
      "Goodbye!\n"
     ]
    }
   ],
   "source": [
    "#8. 向机器人提问\n",
    "def stream_graph_updates(user_input: str):\n",
    "    for event in graph.stream({\"messages\": [{\"role\": \"user\", \"content\": user_input}]}):\n",
    "        for value in event.values():\n",
    "            print(\"Assistant:\", value[\"messages\"][-1].content)\n",
    "\n",
    "while True:\n",
    "    try:\n",
    "        user_input = input(\"User: \")\n",
    "        print(\"User: \" + user_input)\n",
    "        if user_input.lower() in [\"quit\", \"exit\", \"q\"]:\n",
    "            print(\"Goodbye!\")\n",
    "            break\n",
    "\n",
    "        stream_graph_updates(user_input)\n",
    "    except:\n",
    "        # fallback if input() is not available\n",
    "        user_input = \"What do you know about LangGraph?\"\n",
    "        print(\"User: \" + user_input)\n",
    "        stream_graph_updates(user_input)\n",
    "        break"
   ]
  }
 ],
 "metadata": {
  "kernelspec": {
   "display_name": "langgraph",
   "language": "python",
   "name": "python3"
  },
  "language_info": {
   "codemirror_mode": {
    "name": "ipython",
    "version": 3
   },
   "file_extension": ".py",
   "mimetype": "text/x-python",
   "name": "python",
   "nbconvert_exporter": "python",
   "pygments_lexer": "ipython3",
   "version": "3.12.9"
  }
 },
 "nbformat": 4,
 "nbformat_minor": 5
}
